{
 "cells": [
  {
   "cell_type": "code",
   "execution_count": null,
   "metadata": {},
   "outputs": [],
   "source": [
    "from datasets import load_dataset\n",
    "\n",
    "raw_dataset = load_dataset(\"yitingxie/rlhf-reward-datasets\", split=[\"test\"])\n"
   ]
  },
  {
   "cell_type": "code",
   "execution_count": null,
   "metadata": {},
   "outputs": [],
   "source": [
    "raw_dataset = list(raw_dataset[0])\n",
    "raw_dataset[:3]\n"
   ]
  },
  {
   "cell_type": "code",
   "execution_count": null,
   "metadata": {},
   "outputs": [],
   "source": [
    "from typing import Mapping\n",
    "from llama_likes import Completion, PreferenceInput\n",
    "\n",
    "\n",
    "def to_preference_input(entry: Mapping[str, str]) -> PreferenceInput:\n",
    "    def clean(string: str) -> str:\n",
    "        string = string.strip()\n",
    "        if string.startswith(\"Human: \"):\n",
    "            return string.replace(\"Human: \", \"\", 1)\n",
    "        return string.replace(\"Assistant: \", \"\", 1)\n",
    "    return PreferenceInput(\n",
    "        instruction=clean(entry[\"prompt\"]),\n",
    "        completion_a=Completion(player_id=\"chosen\", completion=clean(entry[\"chosen\"])),\n",
    "        completion_b=Completion(player_id=\"rejected\", completion=clean(entry[\"rejected\"])),\n",
    "    )\n",
    "\n",
    "\n",
    "data: list[PreferenceInput] = [to_preference_input(d) for d in raw_dataset]\n",
    "data[:3]\n"
   ]
  },
  {
   "cell_type": "markdown",
   "metadata": {},
   "source": [
    "Labeling a few examples with GPT4..."
   ]
  },
  {
   "cell_type": "code",
   "execution_count": null,
   "metadata": {},
   "outputs": [],
   "source": [
    "from typing import Union\n",
    "from llama_likes import OpenaiModel, OpenaiRanker, PreferenceResult, PreferenceError\n",
    "\n",
    "openai_model = OpenaiModel.GPT_4\n",
    "openai_ranker = OpenaiRanker(openai_model)\n",
    "\n",
    "labels: list[Union[PreferenceResult, PreferenceError]] = []\n",
    "for input in data[:5]:\n",
    "    label = openai_ranker.rank(input)\n",
    "    labels.append(label)\n",
    "\n",
    "labels\n"
   ]
  }
 ],
 "metadata": {
  "kernelspec": {
   "display_name": "llama-likes-0e_Q1Xay-py3.11",
   "language": "python",
   "name": "python3"
  },
  "language_info": {
   "codemirror_mode": {
    "name": "ipython",
    "version": 3
   },
   "file_extension": ".py",
   "mimetype": "text/x-python",
   "name": "python",
   "nbconvert_exporter": "python",
   "pygments_lexer": "ipython3",
   "version": "3.11.4"
  }
 },
 "nbformat": 4,
 "nbformat_minor": 2
}
